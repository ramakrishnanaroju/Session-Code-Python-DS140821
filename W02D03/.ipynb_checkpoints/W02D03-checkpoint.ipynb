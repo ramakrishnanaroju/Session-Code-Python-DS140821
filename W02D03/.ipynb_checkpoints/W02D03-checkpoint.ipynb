{
 "cells": [
  {
   "cell_type": "code",
   "execution_count": null,
   "metadata": {},
   "outputs": [],
   "source": [
    "HW: Create a Program that uses Logical Operators and \n",
    "    conditional statements if else."
   ]
  },
  {
   "cell_type": "code",
   "execution_count": null,
   "metadata": {},
   "outputs": [],
   "source": [
    "Q1: Find if a no is divisible by 2 and also greater than 3."
   ]
  },
  {
   "cell_type": "code",
   "execution_count": 2,
   "metadata": {},
   "outputs": [
    {
     "data": {
      "text/plain": [
       "0"
      ]
     },
     "execution_count": 2,
     "metadata": {},
     "output_type": "execute_result"
    }
   ],
   "source": [
    "and Logical Operator will be used to combine these 2 conditions."
   ]
  },
  {
   "cell_type": "code",
   "execution_count": 5,
   "metadata": {},
   "outputs": [
    {
     "name": "stdout",
     "output_type": "stream",
     "text": [
      "5\n",
      "No\n"
     ]
    }
   ],
   "source": [
    "no = int(input())\n",
    "if no%2 == 0 and no>3:\n",
    "    print('Yes')\n",
    "else:\n",
    "    print('No')"
   ]
  },
  {
   "cell_type": "code",
   "execution_count": null,
   "metadata": {},
   "outputs": [],
   "source": [
    "Q2: if a list contains 1(int) as well as 'mango'(str) than output Wow\n",
    "    Otherwise output Blah!\n",
    "\n",
    "5 mins.\n",
    "19:48\n",
    "    \n",
    "Hint: You can membership operator. in, not in."
   ]
  },
  {
   "cell_type": "code",
   "execution_count": 11,
   "metadata": {},
   "outputs": [
    {
     "name": "stdout",
     "output_type": "stream",
     "text": [
      "Wow\n"
     ]
    }
   ],
   "source": [
    "x = [1,2,3,4,'apple','mango']\n",
    "\n",
    "if 1 in x and 'mango' in x:\n",
    "    print('Wow')\n",
    "else:\n",
    "    print('Blah!')"
   ]
  },
  {
   "cell_type": "code",
   "execution_count": 15,
   "metadata": {},
   "outputs": [
    {
     "name": "stdout",
     "output_type": "stream",
     "text": [
      "Wow\n"
     ]
    }
   ],
   "source": [
    "# Wrong Solution #1\n",
    "# it gives you wow even if 1 is not present in the list.\n",
    "x = [2,3,4,'apple','mango']\n",
    "\n",
    "if 1 and 'mango' in x:\n",
    "    print('Wow')\n",
    "else:\n",
    "    print('Blah!')\n",
    "    \n",
    "# Reason: and operator takes boolean on both the sides which could be\n",
    "#     comparison condition or output of operators like membership,comparison,\n",
    "#     identitiy,etc"
   ]
  },
  {
   "cell_type": "code",
   "execution_count": 12,
   "metadata": {},
   "outputs": [
    {
     "data": {
      "text/plain": [
       "True"
      ]
     },
     "execution_count": 12,
     "metadata": {},
     "output_type": "execute_result"
    }
   ],
   "source": [
    "True and True"
   ]
  },
  {
   "cell_type": "code",
   "execution_count": 13,
   "metadata": {},
   "outputs": [
    {
     "data": {
      "text/plain": [
       "False"
      ]
     },
     "execution_count": 13,
     "metadata": {},
     "output_type": "execute_result"
    }
   ],
   "source": [
    "False and True"
   ]
  },
  {
   "cell_type": "code",
   "execution_count": 17,
   "metadata": {},
   "outputs": [
    {
     "data": {
      "text/plain": [
       "False"
      ]
     },
     "execution_count": 17,
     "metadata": {},
     "output_type": "execute_result"
    }
   ],
   "source": [
    "x = [1,2,3]\n",
    "\n",
    "x == 1"
   ]
  },
  {
   "cell_type": "code",
   "execution_count": 20,
   "metadata": {},
   "outputs": [
    {
     "name": "stdout",
     "output_type": "stream",
     "text": [
      "blah\n"
     ]
    }
   ],
   "source": [
    "# Wrong Solution, items can be present at any index position.\n",
    "l1 = [\"mango\",1]\n",
    "if l1[0] == 1 and l1[1]==\"mango\":\n",
    "    print(\"wow\")\n",
    "else:\n",
    "    print(\"blah\")"
   ]
  },
  {
   "cell_type": "code",
   "execution_count": 22,
   "metadata": {},
   "outputs": [
    {
     "name": "stdout",
     "output_type": "stream",
     "text": [
      "67\n"
     ]
    },
    {
     "data": {
      "text/plain": [
       "67"
      ]
     },
     "execution_count": 22,
     "metadata": {},
     "output_type": "execute_result"
    }
   ],
   "source": [
    "int(input())"
   ]
  },
  {
   "cell_type": "code",
   "execution_count": 24,
   "metadata": {},
   "outputs": [
    {
     "name": "stdout",
     "output_type": "stream",
     "text": [
      "manali\n"
     ]
    }
   ],
   "source": [
    "ticket = 'manali'\n",
    "\n",
    "if ticket == 'goa':\n",
    "    print('goa')\n",
    "elif ticket == 'guwahati':\n",
    "    print('guwahati')\n",
    "elif ticket == 'manali':\n",
    "    print('manali')"
   ]
  },
  {
   "cell_type": "code",
   "execution_count": 25,
   "metadata": {},
   "outputs": [
    {
     "name": "stdout",
     "output_type": "stream",
     "text": [
      "True\n"
     ]
    }
   ],
   "source": [
    "x = 3\n",
    "y = 2\n",
    "print(x>y)"
   ]
  },
  {
   "cell_type": "code",
   "execution_count": null,
   "metadata": {},
   "outputs": [],
   "source": [
    "# Syntax of if else\n",
    "if boolean_equivalent:\n",
    "    some code\n",
    "    some more code\n",
    "else:\n",
    "    other code\n",
    "    more other code"
   ]
  },
  {
   "cell_type": "code",
   "execution_count": 27,
   "metadata": {},
   "outputs": [
    {
     "name": "stdout",
     "output_type": "stream",
     "text": [
      "3\n",
      "None of the Above\n"
     ]
    }
   ],
   "source": [
    "x = int(input())\n",
    "\n",
    "if x%2 == 0:\n",
    "    print('x is divisible by 2')\n",
    "elif x == 2:\n",
    "    print('x is 2')\n",
    "else:\n",
    "    print('None of the Above')"
   ]
  },
  {
   "cell_type": "code",
   "execution_count": 29,
   "metadata": {},
   "outputs": [
    {
     "name": "stdout",
     "output_type": "stream",
     "text": [
      "4\n",
      "x is divisible by 2\n"
     ]
    }
   ],
   "source": [
    "x = int(input())\n",
    "\n",
    "if x==2:\n",
    "    print('x is 2')\n",
    "elif x%2 == 0:\n",
    "    print('x is divisible by 2')\n",
    "else:\n",
    "    print('None of the Above')"
   ]
  },
  {
   "cell_type": "code",
   "execution_count": null,
   "metadata": {},
   "outputs": [],
   "source": [
    "x = 4\n",
    "if you divide 4 by 2 what will be the remainder?0"
   ]
  },
  {
   "cell_type": "code",
   "execution_count": null,
   "metadata": {},
   "outputs": [],
   "source": [
    "x = 2\n",
    "x%2 . This means that the reminder which you will get when you divide x by 2."
   ]
  },
  {
   "cell_type": "code",
   "execution_count": null,
   "metadata": {},
   "outputs": [],
   "source": [
    "y = 56\n",
    "y == 56"
   ]
  },
  {
   "cell_type": "code",
   "execution_count": 30,
   "metadata": {},
   "outputs": [
    {
     "name": "stdout",
     "output_type": "stream",
     "text": [
      "Talib is here!!\n"
     ]
    }
   ],
   "source": [
    "people = ['vinod','krishna','pushkaraj','talib','sumeer','pavan']\n",
    "\n",
    "if 'talib' in people:\n",
    "    print('Talib is here!!')\n",
    "elif 'krishna' in people:\n",
    "    print('Krishna is here!!')\n",
    "elif 'vinod' in people:\n",
    "    print('Vinod is here!!')\n",
    "else:\n",
    "    print('There is somebody from Pushkaraj,Sumeer or Pavan, or maybe somebody else')"
   ]
  },
  {
   "cell_type": "code",
   "execution_count": 32,
   "metadata": {},
   "outputs": [
    {
     "name": "stdout",
     "output_type": "stream",
     "text": [
      "Krishna is here!!\n",
      "Vinod is here!!\n"
     ]
    }
   ],
   "source": [
    "people = ['vinod','krishna','pushkaraj','sumeer','pavan']\n",
    "\n",
    "if 'talib' in people:\n",
    "    print('Talib is here!!')\n",
    "if 'krishna' in people:\n",
    "    print('Krishna is here!!')\n",
    "if 'vinod' in people:\n",
    "    print('Vinod is here!!')"
   ]
  },
  {
   "cell_type": "code",
   "execution_count": null,
   "metadata": {},
   "outputs": [],
   "source": [
    "# else is not necessary to use when if is used."
   ]
  },
  {
   "cell_type": "markdown",
   "metadata": {},
   "source": [
    "# Nested If else"
   ]
  },
  {
   "cell_type": "code",
   "execution_count": 34,
   "metadata": {},
   "outputs": [
    {
     "name": "stdout",
     "output_type": "stream",
     "text": [
      "apple is here, lets see if mango is here too.\n",
      "mango is also here!!\n"
     ]
    }
   ],
   "source": [
    "x = ['apple','mango','banana']\n",
    "\n",
    "if 'apple' in x:\n",
    "    print('apple is here, lets see if mango is here too.')\n",
    "    if 'mango' in x:\n",
    "        print('mango is also here!!')\n",
    "    else:\n",
    "        print('mango is not here!!')\n",
    "else:\n",
    "    print('apple is not here!!')"
   ]
  },
  {
   "cell_type": "code",
   "execution_count": 35,
   "metadata": {},
   "outputs": [
    {
     "name": "stdout",
     "output_type": "stream",
     "text": [
      "apple is not here!!\n"
     ]
    }
   ],
   "source": [
    "x = ['mango','banana']\n",
    "\n",
    "if 'apple' in x:\n",
    "    print('apple is here, lets see if mango is here too.')\n",
    "    if 'mango' in x:\n",
    "        print('mango is also here!!')\n",
    "    else:\n",
    "        print('mango is not here!!')\n",
    "else:\n",
    "    print('apple is not here!!')"
   ]
  },
  {
   "cell_type": "code",
   "execution_count": 36,
   "metadata": {},
   "outputs": [
    {
     "name": "stdout",
     "output_type": "stream",
     "text": [
      "apple is here, lets see if mango is here too.\n",
      "mango is not here!!\n"
     ]
    }
   ],
   "source": [
    "x = ['apple','banana']\n",
    "\n",
    "if 'apple' in x:\n",
    "    print('apple is here, lets see if mango is here too.')\n",
    "    if 'mango' in x:\n",
    "        print('mango is also here!!')\n",
    "    else:\n",
    "        print('mango is not here!!')\n",
    "else:\n",
    "    print('apple is not here!!')"
   ]
  },
  {
   "cell_type": "markdown",
   "metadata": {},
   "source": [
    "# Loops"
   ]
  },
  {
   "cell_type": "code",
   "execution_count": 37,
   "metadata": {},
   "outputs": [
    {
     "name": "stdout",
     "output_type": "stream",
     "text": [
      "Received Paytm Payment of Rs 10\n",
      "Received Paytm Payment of Rs 500\n",
      "Received Paytm Payment of Rs 60\n",
      "Received Paytm Payment of Rs 88\n",
      "Received Paytm Payment of Rs 15\n"
     ]
    }
   ],
   "source": [
    "paymentQueue = [10,500,60,88,15]\n",
    "\n",
    "for money in paymentQueue:\n",
    "    print('Received Paytm Payment of Rs',money)"
   ]
  },
  {
   "cell_type": "code",
   "execution_count": 45,
   "metadata": {},
   "outputs": [
    {
     "name": "stdout",
     "output_type": "stream",
     "text": [
      "worn\n",
      "worn\n",
      "worn\n",
      "worn\n",
      "6000\n"
     ]
    }
   ],
   "source": [
    "bus = ['worn','notworn','worn','notworn','notworn','worn','worn']\n",
    "\n",
    "amount = 0\n",
    "for people_mask_status in bus:\n",
    "#     print(people_mask_status)\n",
    "    if people_mask_status == 'notworn':\n",
    "#         print('I will get 2000')\n",
    "        amount += 2000\n",
    "    else:\n",
    "        print(people_mask_status)\n",
    "print(amount)"
   ]
  },
  {
   "cell_type": "code",
   "execution_count": null,
   "metadata": {},
   "outputs": [],
   "source": [
    "HW: Make a Program which will filter out comments from a comment box(comment\n",
    "    box is list containing strings), which does not contain the word 'BroCode'.\n",
    "    Print all those which does not contain the brocode.\n",
    "    \n",
    "example_comment_box = ['Bhai Bhai BroCode mat tod','BroCode Tod diya isne',\n",
    "                      'Check my Story guys','I make memes check my account',\n",
    "                      'OO bhai bhai bhai','Like If you did  not understood the meme']"
   ]
  }
 ],
 "metadata": {
  "kernelspec": {
   "display_name": "Python 3",
   "language": "python",
   "name": "python3"
  },
  "language_info": {
   "codemirror_mode": {
    "name": "ipython",
    "version": 3
   },
   "file_extension": ".py",
   "mimetype": "text/x-python",
   "name": "python",
   "nbconvert_exporter": "python",
   "pygments_lexer": "ipython3",
   "version": "3.8.3"
  }
 },
 "nbformat": 4,
 "nbformat_minor": 4
}
